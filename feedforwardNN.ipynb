{
 "cells": [
  {
   "cell_type": "code",
   "execution_count": 92,
   "metadata": {},
   "outputs": [],
   "source": [
    "import torch\n",
    "import numpy as np\n",
    "import torchvision\n",
    "import matplotlib.pyplot as plt\n",
    "\n",
    "\n",
    "device=torch.device('cuda' if torch.cuda.is_available() else 'cpu')\n"
   ]
  },
  {
   "cell_type": "code",
   "execution_count": 93,
   "metadata": {},
   "outputs": [],
   "source": [
    "train=torchvision.datasets.MNIST(root='./data' , train = True, transform= torchvision.transforms.ToTensor(), download=True)\n",
    "test=torchvision.datasets.MNIST(root='./data' , train = False, transform= torchvision.transforms.ToTensor())"
   ]
  },
  {
   "cell_type": "code",
   "execution_count": 94,
   "metadata": {},
   "outputs": [],
   "source": [
    "inp_size=28*28\n",
    "num_echos=2\n",
    "hidden_layers=100\n",
    "batch_size=100\n",
    "num_classes=10\n",
    "l_rate=0.001"
   ]
  },
  {
   "cell_type": "code",
   "execution_count": 95,
   "metadata": {},
   "outputs": [],
   "source": [
    "train_loader=torch.utils.data.DataLoader(dataset=train,batch_size=batch_size,shuffle=True,)\n",
    "test_loader=torch.utils.data.DataLoader(dataset=test,batch_size=batch_size,)"
   ]
  },
  {
   "cell_type": "code",
   "execution_count": 96,
   "metadata": {},
   "outputs": [
    {
     "data": {
      "image/png": "[encoded data removed]",
      "text/plain": [
       "<Figure size 432x288 with 6 Axes>"
      ]
     },
     "metadata": {
      "needs_background": "light"
     },
     "output_type": "display_data"
    }
   ],
   "source": [
    "examples= iter(train_loader)\n",
    "samples,labels=next(examples)\n",
    "# print(samples.shape,labels.shape)\n",
    "\n",
    "for i in range(6):\n",
    "    plt.subplot(2,3,i+1)\n",
    "    plt.imshow(samples[i][0],cmap='gray')\n",
    "\n",
    "# plt.show()\n"
   ]
  },
  {
   "cell_type": "code",
   "execution_count": 97,
   "metadata": {},
   "outputs": [],
   "source": [
    "class FeedForwardNN(torch.nn.Module):\n",
    "    def __init__(self,inp_size,hidden_layers,num_classes):\n",
    "        super(FeedForwardNN,self).__init__()\n",
    "        self.l1=torch.nn.Linear(inp_size,hidden_layers)\n",
    "        self.relu=torch.nn.ReLU()\n",
    "        self.l2=torch.nn.Linear(hidden_layers,num_classes)\n",
    "    \n",
    "    def forward(self,x):\n",
    "        out=self.l1(x)\n",
    "        out=self.relu(out)\n",
    "        out=self.l2(out)\n",
    "        return out\n",
    "    "
   ]
  },
  {
   "cell_type": "code",
   "execution_count": 98,
   "metadata": {},
   "outputs": [],
   "source": [
    "model= FeedForwardNN(inp_size,hidden_layers,num_classes)\n",
    "loss=torch.nn.CrossEntropyLoss()\n",
    "optimizer= torch.optim.Adam(model.parameters(),lr=l_rate)"
   ]
  },
  {
   "cell_type": "code",
   "execution_count": 99,
   "metadata": {},
   "outputs": [
    {
     "name": "stdout",
     "output_type": "stream",
     "text": [
      "1:loss=2.3088817596435547\n",
      "101:loss=0.38476771116256714\n",
      "201:loss=0.48295679688453674\n",
      "301:loss=0.4160606265068054\n",
      "401:loss=0.34821251034736633\n",
      "501:loss=0.2606726586818695\n",
      "1:loss=0.19664832949638367\n",
      "101:loss=0.2538554072380066\n",
      "201:loss=0.09916947036981583\n",
      "301:loss=0.17886434495449066\n",
      "401:loss=0.16569554805755615\n",
      "501:loss=0.18496514856815338\n"
     ]
    }
   ],
   "source": [
    "num_iters=len(train_loader)\n",
    "for eco in range(num_echos):\n",
    "    for i,(sample,labels) in enumerate(train_loader):\n",
    "        sample=sample.reshape(-1,28*28).to(device)\n",
    "        labels=labels.to(device)\n",
    "        y_hat=model(sample)\n",
    "        l=loss(y_hat,labels)\n",
    "        optimizer.zero_grad()\n",
    "        l.backward()\n",
    "        optimizer.step()\n",
    "        if(i%100==0):print(f'{i+1}:loss={l}')"
   ]
  },
  {
   "cell_type": "code",
   "execution_count": 101,
   "metadata": {},
   "outputs": [
    {
     "name": "stdout",
     "output_type": "stream",
     "text": [
      "Accuracy=95.1\n"
     ]
    }
   ],
   "source": [
    "with torch.no_grad():\n",
    "    total=0\n",
    "    correct=0\n",
    "    for image,label in test_loader:\n",
    "        image=image.reshape(-1,28*28).to(device)\n",
    "        label=label.to(device)\n",
    "        out=model(image)\n",
    "        _,pred=torch.max(out,1)\n",
    "        total+=label.shape[0]\n",
    "        # print(pred,label)\n",
    "        correct+=(pred==label).sum().item()\n",
    "    print(f'Accuracy={correct/total*100}')"
   ]
  }
 ],
 "metadata": {
  "kernelspec": {
   "display_name": "Python 3 (ipykernel)",
   "language": "python",
   "name": "python3"
  },
  "language_info": {
   "codemirror_mode": {
    "name": "ipython",
    "version": 3
   },
   "file_extension": ".py",
   "mimetype": "text/x-python",
   "name": "python",
   "nbconvert_exporter": "python",
   "pygments_lexer": "ipython3",
   "version": "3.9.12"
  },
  "orig_nbformat": 4
 },
 "nbformat": 4,
 "nbformat_minor": 2
}
