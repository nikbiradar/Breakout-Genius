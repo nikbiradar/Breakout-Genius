{
 "cells": [
  {
   "cell_type": "code",
   "execution_count": 2,
   "id": "a7b363a9",
   "metadata": {},
   "outputs": [],
   "source": [
    "import torch\n",
    "import torch.nn as nn"
   ]
  },
  {
   "cell_type": "code",
   "execution_count": 26,
   "id": "c48fd4fc",
   "metadata": {},
   "outputs": [],
   "source": [
    "X=torch.tensor([[1],[2],[3],[4],[5]], dtype=torch.float32)\n",
    "Y=torch.tensor([[2],[4],[6],[8],[10]], dtype=torch.float32)\n",
    "test=torch.tensor([[6],[7],[8],[9],[10]], dtype=torch.float32)"
   ]
  },
  {
   "cell_type": "code",
   "execution_count": 36,
   "id": "e18fa5f2",
   "metadata": {},
   "outputs": [],
   "source": [
    "# w=torch.zeros(1, requires_grad=True)\n",
    "# w=torch.model()\n",
    "inp_sz,out_sz=X.shape\n",
    "model=nn.Linear(out_sz,out_sz)"
   ]
  },
  {
   "cell_type": "code",
   "execution_count": 29,
   "id": "a8e6a7c4",
   "metadata": {},
   "outputs": [],
   "source": [
    "# def forward(x):\n",
    "#     return w*x"
   ]
  },
  {
   "cell_type": "code",
   "execution_count": 37,
   "id": "15c62b49",
   "metadata": {},
   "outputs": [],
   "source": [
    "# def loss(y_pred,y):\n",
    "#     return (y-y_pred)**2\n",
    "loss=torch.nn.MSELoss()\n",
    "optimizer=torch.optim.SGD(model.parameters(), 0.01)"
   ]
  },
  {
   "cell_type": "code",
   "execution_count": 43,
   "id": "80d029f6",
   "metadata": {},
   "outputs": [],
   "source": [
    "for i in range(10000):\n",
    "#     y_pred=forward(X)\n",
    "    y_pred=model(X)\n",
    "    l=loss(y_pred,Y)\n",
    "    l.backward()\n",
    "#     dw=w.grad\n",
    "    optimizer.step()\n",
    "#     with torch.no_grad():\n",
    "#         w-=0.01*dw\n",
    "        \n",
    "#     w.grad.zero_()\n",
    "    optimizer.zero_grad()"
   ]
  },
  {
   "cell_type": "code",
   "execution_count": 44,
   "id": "c2f76ddb",
   "metadata": {},
   "outputs": [
    {
     "data": {
      "text/plain": [
       "tensor([[12.0000],\n",
       "        [14.0000],\n",
       "        [16.0000],\n",
       "        [18.0000],\n",
       "        [20.0000]], grad_fn=<AddmmBackward0>)"
      ]
     },
     "execution_count": 44,
     "metadata": {},
     "output_type": "execute_result"
    }
   ],
   "source": [
    "model(test)"
   ]
  }
 ],
 "metadata": {
  "kernelspec": {
   "display_name": "Python 3 (ipykernel)",
   "language": "python",
   "name": "python3"
  },
  "language_info": {
   "codemirror_mode": {
    "name": "ipython",
    "version": 3
   },
   "file_extension": ".py",
   "mimetype": "text/x-python",
   "name": "python",
   "nbconvert_exporter": "python",
   "pygments_lexer": "ipython3",
   "version": "3.9.12"
  }
 },
 "nbformat": 4,
 "nbformat_minor": 5
}
