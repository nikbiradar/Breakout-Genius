{
 "cells": [
  {
   "cell_type": "code",
   "execution_count": 56,
   "id": "bd2cf0c4",
   "metadata": {},
   "outputs": [],
   "source": [
    "# Importing modules\n",
    "import torch\n",
    "import numpy as np\n",
    "from sklearn import datasets\n",
    "from sklearn.model_selection import train_test_split\n",
    "from sklearn.preprocessing import StandardScaler\n",
    "import matplotlib.pyplot as plt"
   ]
  },
  {
   "cell_type": "code",
   "execution_count": 27,
   "id": "1e081105",
   "metadata": {},
   "outputs": [],
   "source": [
    "data= datasets.load_breast_cancer()\n",
    "x,y=data.data, data.target\n",
    "n_samples,n_features=x.shape\n",
    "x_train,x_test,y_train,y_test= train_test_split(x,y,test_size=0.2)\n",
    "sc=StandardScaler()\n",
    "x_train=sc.fit_transform(x_train)\n",
    "x_test=sc.fit_transform(x_test)"
   ]
  },
  {
   "cell_type": "code",
   "execution_count": 28,
   "id": "24b28c0c",
   "metadata": {},
   "outputs": [],
   "source": [
    "x_train= torch.from_numpy(x_train.astype(np.float32))\n",
    "y_train= torch.from_numpy(y_train.astype(np.float32))\n",
    "x_test= torch.from_numpy(x_test.astype(np.float32))\n",
    "y_test= torch.from_numpy(y_test.astype(np.float32))\n",
    "y_train=y_train.view(y_train.shape[0],1)\n",
    "y_test=y_test.view(y_test.shape[0],1)"
   ]
  },
  {
   "cell_type": "code",
   "execution_count": 47,
   "id": "c7b194e0",
   "metadata": {},
   "outputs": [],
   "source": [
    "class LogisticRegression(torch.nn.Module):\n",
    "    def __init__(self, inp_features):\n",
    "        super(LogisticRegression,self).__init__()\n",
    "        self.linear=torch.nn.Linear(inp_features,1)\n",
    "        \n",
    "    def forward(self,x):\n",
    "        return torch.sigmoid(self.linear(x))\n",
    "        "
   ]
  },
  {
   "cell_type": "code",
   "execution_count": 48,
   "id": "e76ef55e",
   "metadata": {},
   "outputs": [],
   "source": [
    "model=LogisticRegression(n_features)\n",
    "optimizer=torch.optim.SGD(model.parameters(),lr=0.01)\n",
    "loss=torch.nn.BCELoss()"
   ]
  },
  {
   "cell_type": "code",
   "execution_count": 66,
   "id": "f8c9dbb0",
   "metadata": {},
   "outputs": [],
   "source": [
    "num_itrs=100\n",
    "\n",
    "for i in range(num_itrs):\n",
    "    y_pred=model(x_train)\n",
    "    l=loss(y_pred,y_train)\n",
    "    l.backward()\n",
    "    optimizer.step()\n",
    "    optimizer.zero_grad()"
   ]
  },
  {
   "cell_type": "code",
   "execution_count": 67,
   "id": "09595820",
   "metadata": {},
   "outputs": [],
   "source": [
    "Y=model(x_test)\n",
    "with torch.no_grad():\n",
    "    Y=Y.round()\n",
    "    error=(Y-y_test)**2\n",
    "    error=error.mean()\n"
   ]
  },
  {
   "cell_type": "code",
   "execution_count": 68,
   "id": "fcb70ef5",
   "metadata": {},
   "outputs": [
    {
     "data": {
      "text/plain": [
       "tensor(0.0351)"
      ]
     },
     "execution_count": 68,
     "metadata": {},
     "output_type": "execute_result"
    },
    {
     "data": {
      "image/png": "[encoded data removed]",
      "text/plain": [
       "<Figure size 432x288 with 1 Axes>"
      ]
     },
     "metadata": {
      "needs_background": "light"
     },
     "output_type": "display_data"
    }
   ],
   "source": [
    "plt.plot(y_test,\"bo\")\n",
    "plt.plot(Y,\"ro\")\n",
    "error"
   ]
  }
 ],
 "metadata": {
  "kernelspec": {
   "display_name": "Python 3 (ipykernel)",
   "language": "python",
   "name": "python3"
  },
  "language_info": {
   "codemirror_mode": {
    "name": "ipython",
    "version": 3
   },
   "file_extension": ".py",
   "mimetype": "text/x-python",
   "name": "python",
   "nbconvert_exporter": "python",
   "pygments_lexer": "ipython3",
   "version": "3.9.12"
  }
 },
 "nbformat": 4,
 "nbformat_minor": 5
}
